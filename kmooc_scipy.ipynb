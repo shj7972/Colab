{
  "nbformat": 4,
  "nbformat_minor": 0,
  "metadata": {
    "colab": {
      "name": "kmooc_scipy.ipynb",
      "provenance": [],
      "collapsed_sections": [],
      "authorship_tag": "ABX9TyPEg0TKf/6Bn0AZnkG1pri1",
      "include_colab_link": true
    },
    "kernelspec": {
      "name": "python3",
      "display_name": "Python 3"
    },
    "language_info": {
      "name": "python"
    }
  },
  "cells": [
    {
      "cell_type": "markdown",
      "metadata": {
        "id": "view-in-github",
        "colab_type": "text"
      },
      "source": [
        "<a href=\"https://colab.research.google.com/github/shj7972/Colab/blob/master/kmooc_scipy.ipynb\" target=\"_parent\"><img src=\"https://colab.research.google.com/assets/colab-badge.svg\" alt=\"Open In Colab\"/></a>"
      ]
    },
    {
      "cell_type": "code",
      "execution_count": null,
      "metadata": {
        "id": "BUbnKWpbtTLK"
      },
      "outputs": [],
      "source": [
        "# 수치화 모형 : 콜옵션, 풋옵션\n",
        "# 콜옵션(call option)의 정의 : 미래의 일정시점(옵션 만기일)에 미리 정해진 가격(행사가격)으로 특정한 자산(기초자산)을 일정수량 매입할 수 있는 권리\n",
        "# 만기일에서 콜 옵션 투자자(매수자)의 의사결정 : 옵션 만기일에 기초자산의 가격이 행사가격보다 높아지면 행사가격을 지불하고 기초자산을 매입하여 이익을 봄\n",
        "# 옵션 만기일에 기초 자산의 가격이 행사 가격보다 낮으면 권리행사를 포기"
      ]
    },
    {
      "cell_type": "code",
      "source": [
        "# 행사가격 10,000원, 콜옵션 가격 200원인 콜옵션 투자손익\n",
        "strike=10000\n",
        "call_price=200\n",
        "stock_price=list(range(9500,10600,100))\n",
        "L=len(stock_price)\n",
        "payoff=[]\n",
        "for i in range(0,L):\n",
        "  if stock_price[i]>strike:\n",
        "    cash=-strike+stock_price[i]-call_price\n",
        "  else:\n",
        "    cash=-call_price\n",
        "  payoff.append(cash)\n",
        "print(payoff)\n",
        "\n",
        "import matplotlib.pyplot as plt\n",
        "plt.plot(stock_price, payoff)\n",
        "plt.xlabel('만기일 주가')\n",
        "plt.ylabel('콜옵션 손익')\n",
        "plt.title('만기일 콜옵션 손익')\n",
        "plt.ylim(-250,700)\n",
        "plt.grid()\n",
        "plt.show()"
      ],
      "metadata": {
        "colab": {
          "base_uri": "https://localhost:8080/",
          "height": 1000
        },
        "id": "dcr0Gc_ewdvG",
        "outputId": "530aaf79-4d95-462e-bf1e-aad20c18a364"
      },
      "execution_count": null,
      "outputs": [
        {
          "output_type": "stream",
          "name": "stdout",
          "text": [
            "[-200, -200, -200, -200, -200, -200, -100, 0, 100, 200, 300]\n"
          ]
        },
        {
          "output_type": "stream",
          "name": "stderr",
          "text": [
            "/usr/local/lib/python3.7/dist-packages/matplotlib/backends/backend_agg.py:214: RuntimeWarning: Glyph 47564 missing from current font.\n",
            "  font.set_text(s, 0.0, flags=flags)\n",
            "/usr/local/lib/python3.7/dist-packages/matplotlib/backends/backend_agg.py:214: RuntimeWarning: Glyph 44592 missing from current font.\n",
            "  font.set_text(s, 0.0, flags=flags)\n",
            "/usr/local/lib/python3.7/dist-packages/matplotlib/backends/backend_agg.py:214: RuntimeWarning: Glyph 51068 missing from current font.\n",
            "  font.set_text(s, 0.0, flags=flags)\n",
            "/usr/local/lib/python3.7/dist-packages/matplotlib/backends/backend_agg.py:214: RuntimeWarning: Glyph 53084 missing from current font.\n",
            "  font.set_text(s, 0.0, flags=flags)\n",
            "/usr/local/lib/python3.7/dist-packages/matplotlib/backends/backend_agg.py:214: RuntimeWarning: Glyph 50741 missing from current font.\n",
            "  font.set_text(s, 0.0, flags=flags)\n",
            "/usr/local/lib/python3.7/dist-packages/matplotlib/backends/backend_agg.py:214: RuntimeWarning: Glyph 49496 missing from current font.\n",
            "  font.set_text(s, 0.0, flags=flags)\n",
            "/usr/local/lib/python3.7/dist-packages/matplotlib/backends/backend_agg.py:214: RuntimeWarning: Glyph 49552 missing from current font.\n",
            "  font.set_text(s, 0.0, flags=flags)\n",
            "/usr/local/lib/python3.7/dist-packages/matplotlib/backends/backend_agg.py:214: RuntimeWarning: Glyph 51061 missing from current font.\n",
            "  font.set_text(s, 0.0, flags=flags)\n",
            "/usr/local/lib/python3.7/dist-packages/matplotlib/backends/backend_agg.py:214: RuntimeWarning: Glyph 51452 missing from current font.\n",
            "  font.set_text(s, 0.0, flags=flags)\n",
            "/usr/local/lib/python3.7/dist-packages/matplotlib/backends/backend_agg.py:214: RuntimeWarning: Glyph 44032 missing from current font.\n",
            "  font.set_text(s, 0.0, flags=flags)\n",
            "/usr/local/lib/python3.7/dist-packages/matplotlib/backends/backend_agg.py:183: RuntimeWarning: Glyph 47564 missing from current font.\n",
            "  font.set_text(s, 0, flags=flags)\n",
            "/usr/local/lib/python3.7/dist-packages/matplotlib/backends/backend_agg.py:183: RuntimeWarning: Glyph 44592 missing from current font.\n",
            "  font.set_text(s, 0, flags=flags)\n",
            "/usr/local/lib/python3.7/dist-packages/matplotlib/backends/backend_agg.py:183: RuntimeWarning: Glyph 51068 missing from current font.\n",
            "  font.set_text(s, 0, flags=flags)\n",
            "/usr/local/lib/python3.7/dist-packages/matplotlib/backends/backend_agg.py:183: RuntimeWarning: Glyph 51452 missing from current font.\n",
            "  font.set_text(s, 0, flags=flags)\n",
            "/usr/local/lib/python3.7/dist-packages/matplotlib/backends/backend_agg.py:183: RuntimeWarning: Glyph 44032 missing from current font.\n",
            "  font.set_text(s, 0, flags=flags)\n",
            "/usr/local/lib/python3.7/dist-packages/matplotlib/backends/backend_agg.py:183: RuntimeWarning: Glyph 53084 missing from current font.\n",
            "  font.set_text(s, 0, flags=flags)\n",
            "/usr/local/lib/python3.7/dist-packages/matplotlib/backends/backend_agg.py:183: RuntimeWarning: Glyph 50741 missing from current font.\n",
            "  font.set_text(s, 0, flags=flags)\n",
            "/usr/local/lib/python3.7/dist-packages/matplotlib/backends/backend_agg.py:183: RuntimeWarning: Glyph 49496 missing from current font.\n",
            "  font.set_text(s, 0, flags=flags)\n",
            "/usr/local/lib/python3.7/dist-packages/matplotlib/backends/backend_agg.py:183: RuntimeWarning: Glyph 49552 missing from current font.\n",
            "  font.set_text(s, 0, flags=flags)\n",
            "/usr/local/lib/python3.7/dist-packages/matplotlib/backends/backend_agg.py:183: RuntimeWarning: Glyph 51061 missing from current font.\n",
            "  font.set_text(s, 0, flags=flags)\n"
          ]
        },
        {
          "output_type": "display_data",
          "data": {
            "image/png": "[encoded data removed]",
            "text/plain": [
              "<Figure size 432x288 with 1 Axes>"
            ]
          },
          "metadata": {
            "needs_background": "light"
          }
        }
      ]
    },
    {
      "cell_type": "code",
      "source": [
        "# 풋 옵션(put option)의 정의 : 미래의 일정시점(혹은 일정기간 내에) 미리 정해진 가격(행사가격)으로 특정한 자산(기초자산)을 일정수량 매도할 수 있는 권리\n",
        "# 만기일에서 풋 옶션 투자자(매수자)의 의사결정 : 옵션 만기일에 기초자산의 가격이 행사 가격보다 낮아지면 행사가격을 수령하고 기초자산을 매도하여 이익을 봄\n",
        "# 옵션 만기일에 기초자산의 가격이 행사 가격보다 높으면 권리행사를 포기"
      ],
      "metadata": {
        "id": "EOLK7YaNyWc0"
      },
      "execution_count": null,
      "outputs": []
    },
    {
      "cell_type": "code",
      "source": [
        "# 행사가격 10,000원, 풋 옵션 가격 200원인 풋옵션 투자손익\n",
        "strike=10000\n",
        "put_price=200\n",
        "stock_price=list(range(9500,10600,100))\n",
        "L=len(stock_price)\n",
        "payoff=[]\n",
        "for i in range(0,L):\n",
        "  if stock_price[i]<strike:\n",
        "    cash= strike-stock_price[i]-put_price\n",
        "  else:\n",
        "    cash=-put_price\n",
        "  payoff.append(cash)\n",
        "print(payoff)\n",
        "\n",
        "import matplotlib.pyplot as plt\n",
        "plt.plot(stock_price, payoff)\n",
        "plt.xlabel('만기일 주가')\n",
        "plt.ylabel('풋풋옵션 손익')\n",
        "plt.title('만기일 풋옵션 손익')\n",
        "plt.ylim(-250,700)\n",
        "plt.grid()\n",
        "plt.show()"
      ],
      "metadata": {
        "colab": {
          "base_uri": "https://localhost:8080/",
          "height": 1000
        },
        "id": "xCDF2pC3z8bv",
        "outputId": "c44d792d-810c-445e-d75f-7dbb1222650c"
      },
      "execution_count": null,
      "outputs": [
        {
          "output_type": "stream",
          "name": "stdout",
          "text": [
            "[300, 200, 100, 0, -100, -200, -200, -200, -200, -200, -200]\n"
          ]
        },
        {
          "output_type": "stream",
          "name": "stderr",
          "text": [
            "/usr/local/lib/python3.7/dist-packages/matplotlib/backends/backend_agg.py:214: RuntimeWarning: Glyph 47564 missing from current font.\n",
            "  font.set_text(s, 0.0, flags=flags)\n",
            "/usr/local/lib/python3.7/dist-packages/matplotlib/backends/backend_agg.py:214: RuntimeWarning: Glyph 44592 missing from current font.\n",
            "  font.set_text(s, 0.0, flags=flags)\n",
            "/usr/local/lib/python3.7/dist-packages/matplotlib/backends/backend_agg.py:214: RuntimeWarning: Glyph 51068 missing from current font.\n",
            "  font.set_text(s, 0.0, flags=flags)\n",
            "/usr/local/lib/python3.7/dist-packages/matplotlib/backends/backend_agg.py:214: RuntimeWarning: Glyph 54411 missing from current font.\n",
            "  font.set_text(s, 0.0, flags=flags)\n",
            "/usr/local/lib/python3.7/dist-packages/matplotlib/backends/backend_agg.py:214: RuntimeWarning: Glyph 50741 missing from current font.\n",
            "  font.set_text(s, 0.0, flags=flags)\n",
            "/usr/local/lib/python3.7/dist-packages/matplotlib/backends/backend_agg.py:214: RuntimeWarning: Glyph 49496 missing from current font.\n",
            "  font.set_text(s, 0.0, flags=flags)\n",
            "/usr/local/lib/python3.7/dist-packages/matplotlib/backends/backend_agg.py:214: RuntimeWarning: Glyph 49552 missing from current font.\n",
            "  font.set_text(s, 0.0, flags=flags)\n",
            "/usr/local/lib/python3.7/dist-packages/matplotlib/backends/backend_agg.py:214: RuntimeWarning: Glyph 51061 missing from current font.\n",
            "  font.set_text(s, 0.0, flags=flags)\n",
            "/usr/local/lib/python3.7/dist-packages/matplotlib/backends/backend_agg.py:214: RuntimeWarning: Glyph 51452 missing from current font.\n",
            "  font.set_text(s, 0.0, flags=flags)\n",
            "/usr/local/lib/python3.7/dist-packages/matplotlib/backends/backend_agg.py:214: RuntimeWarning: Glyph 44032 missing from current font.\n",
            "  font.set_text(s, 0.0, flags=flags)\n",
            "/usr/local/lib/python3.7/dist-packages/matplotlib/backends/backend_agg.py:183: RuntimeWarning: Glyph 47564 missing from current font.\n",
            "  font.set_text(s, 0, flags=flags)\n",
            "/usr/local/lib/python3.7/dist-packages/matplotlib/backends/backend_agg.py:183: RuntimeWarning: Glyph 44592 missing from current font.\n",
            "  font.set_text(s, 0, flags=flags)\n",
            "/usr/local/lib/python3.7/dist-packages/matplotlib/backends/backend_agg.py:183: RuntimeWarning: Glyph 51068 missing from current font.\n",
            "  font.set_text(s, 0, flags=flags)\n",
            "/usr/local/lib/python3.7/dist-packages/matplotlib/backends/backend_agg.py:183: RuntimeWarning: Glyph 51452 missing from current font.\n",
            "  font.set_text(s, 0, flags=flags)\n",
            "/usr/local/lib/python3.7/dist-packages/matplotlib/backends/backend_agg.py:183: RuntimeWarning: Glyph 44032 missing from current font.\n",
            "  font.set_text(s, 0, flags=flags)\n",
            "/usr/local/lib/python3.7/dist-packages/matplotlib/backends/backend_agg.py:183: RuntimeWarning: Glyph 54411 missing from current font.\n",
            "  font.set_text(s, 0, flags=flags)\n",
            "/usr/local/lib/python3.7/dist-packages/matplotlib/backends/backend_agg.py:183: RuntimeWarning: Glyph 50741 missing from current font.\n",
            "  font.set_text(s, 0, flags=flags)\n",
            "/usr/local/lib/python3.7/dist-packages/matplotlib/backends/backend_agg.py:183: RuntimeWarning: Glyph 49496 missing from current font.\n",
            "  font.set_text(s, 0, flags=flags)\n",
            "/usr/local/lib/python3.7/dist-packages/matplotlib/backends/backend_agg.py:183: RuntimeWarning: Glyph 49552 missing from current font.\n",
            "  font.set_text(s, 0, flags=flags)\n",
            "/usr/local/lib/python3.7/dist-packages/matplotlib/backends/backend_agg.py:183: RuntimeWarning: Glyph 51061 missing from current font.\n",
            "  font.set_text(s, 0, flags=flags)\n"
          ]
        },
        {
          "output_type": "display_data",
          "data": {
            "image/png": "[encoded data removed]",
            "text/plain": [
              "<Figure size 432x288 with 1 Axes>"
            ]
          },
          "metadata": {
            "needs_background": "light"
          }
        }
      ]
    },
    {
      "cell_type": "code",
      "source": [
        "# 표준정규분포 누적확률 :  평균 0을 중심으로 표준편차 1 좌우대칭 분포, 최대/최소 +4 ~ -4\n",
        "\n",
        "# 평균 mu, 표준편차 sigma인 정규확률변수가 x보다 작을 확률\n",
        "# from scipy.stats import norm\n",
        "# norm.cdf(x,mu,sigma)"
      ],
      "metadata": {
        "id": "IxkKQpjBih40"
      },
      "execution_count": null,
      "outputs": []
    },
    {
      "cell_type": "code",
      "source": [
        "from scipy.stats import norm\n",
        "prob = norm.cdf(-2.2, 0, 1)\n",
        "print(format(prob,\".4f\"))"
      ],
      "metadata": {
        "colab": {
          "base_uri": "https://localhost:8080/"
        },
        "id": "ZmWFq5iaj7iq",
        "outputId": "7d636b00-808f-4b0b-c66f-616abcc302fc"
      },
      "execution_count": null,
      "outputs": [
        {
          "output_type": "stream",
          "name": "stdout",
          "text": [
            "0.0139\n"
          ]
        }
      ]
    },
    {
      "cell_type": "code",
      "source": [
        "from scipy.stats import norm\n",
        "prob = norm.cdf(2.2, 0, 1)\n",
        "print(format(prob,\".4f\"))"
      ],
      "metadata": {
        "colab": {
          "base_uri": "https://localhost:8080/"
        },
        "id": "guROkvBIkL6A",
        "outputId": "780506cf-f245-46ff-a90c-e7e8aa72d113"
      },
      "execution_count": null,
      "outputs": [
        {
          "output_type": "stream",
          "name": "stdout",
          "text": [
            "0.9861\n"
          ]
        }
      ]
    },
    {
      "cell_type": "code",
      "source": [
        "# 블랙-숄즈 모형 : 만기일에만 행사할 수 있는 콜 옵션과 풋옵션 가치평가모형\n"
      ],
      "metadata": {
        "id": "KpgwtI_wkUn0"
      },
      "execution_count": null,
      "outputs": []
    },
    {
      "cell_type": "code",
      "source": [
        "# 코드 : 블랙-숄숄즈모형을 이용한 콜옵션/풋옵션가격 계산\n",
        "from scipy.stats import norm\n",
        "from math import *\n",
        "def main():\n",
        "  stockprice=int(input('현재 주가: '))\n",
        "  strike=int(input('행사 가격: '))\n",
        "  TByield=float(input('무위험이자율(소숫점): '))\n",
        "  sigma=float(input('주가변동성(소숫점): '))\n",
        "  maturity=float(input('옵션 잔존만기(년): '))\n",
        "  call=BS(stockprice, strike, TByield, sigma, maturity)[0]\n",
        "  put=BS(stockprice, strike, TByield, sigma, maturity)[1]\n",
        "  print(\"콜옵션 가격: \", format(call, '.2f'))\n",
        "  print(\"풋옵션 가격: \", format(put, '.2f'))\n",
        "\n",
        "def BS(S, K, r, sigma, T):\n",
        "  d1=(log(S/K)+(r+0.5*sigma**2)*(T))/(sigma*sqrt(T))\n",
        "  d2=d1-sigma*sqrt(T)\n",
        "  call_price=S*norm.cdf(d1,0,1)-K*exp(-r*(T))*norm.cdf(d2,0,1)\n",
        "  put_price=K*exp(-r*(T))*norm.cdf(-d2,0,1)-S*norm.cdf(-d1,0,1)\n",
        "  return call_price,put_price\n",
        "main()"
      ],
      "metadata": {
        "colab": {
          "base_uri": "https://localhost:8080/"
        },
        "id": "qRMsqj1slUso",
        "outputId": "06b7254e-2bac-4248-9286-ebf990cca9e2"
      },
      "execution_count": null,
      "outputs": [
        {
          "output_type": "stream",
          "name": "stdout",
          "text": [
            "현재 주가: 10000\n",
            "행사 가격: 10000\n",
            "무위험이자율(소숫점): 0.02\n",
            "주가변동성(소숫점): 0.25\n",
            "옵션 잔존만기(년): 0.5\n",
            "콜옵션 가격:  751.68\n",
            "풋옵션 가격:  652.18\n"
          ]
        }
      ]
    },
    {
      "cell_type": "code",
      "source": [
        "# 코드 : 행사가격과 콜옵션 가격간의 관계\n",
        "import numpy as np\n",
        "from scipy.stats import norm\n",
        "from math import *\n",
        "def BS_call(S,K,r,sigma,T):\n",
        "  d1=(log(S/K)+(r+0.5*sigma**2)*(T))/(sigma*sqrt(T))\n",
        "  d2=d1-sigma*sqrt(T)\n",
        "  call_price=S*norm.cdf(d1,0,1)-K*exp(-r*(T))*norm.cdf(d2,0,1)\n",
        "  return call_price\n",
        "\n",
        "S=10000 # 현재 주가\n",
        "r=0.02 # 무위험이자율\n",
        "sigma=0.25 # 주가변동성\n",
        "T=0.5 # 잔존만기\n",
        "L=100\n",
        "Ks=np.linspace(8000,12000,L) # 행사가격 8000~12000 사이 100개 정수 배열열\n",
        "calls=[]\n",
        "for i in range(0,L):\n",
        "  price=BS_call(S,Ks[i],r,sigma,T);\n",
        "  calls.append(price)\n",
        "\n",
        "import matplotlib.pyplot as plt\n",
        "plt.plot(Ks,calls)\n",
        "plt.xlabel('행사가격')\n",
        "plt.ylabel('콜옵션가격')\n"
      ],
      "metadata": {
        "colab": {
          "base_uri": "https://localhost:8080/",
          "height": 793
        },
        "id": "9fiA220bqvbO",
        "outputId": "68abe495-f987-40d8-b927-5026bb825f75"
      },
      "execution_count": null,
      "outputs": [
        {
          "output_type": "execute_result",
          "data": {
            "text/plain": [
              "Text(0, 0.5, '콜옵션가격')"
            ]
          },
          "metadata": {},
          "execution_count": 12
        },
        {
          "output_type": "stream",
          "name": "stderr",
          "text": [
            "/usr/local/lib/python3.7/dist-packages/matplotlib/backends/backend_agg.py:214: RuntimeWarning: Glyph 54665 missing from current font.\n",
            "  font.set_text(s, 0.0, flags=flags)\n",
            "/usr/local/lib/python3.7/dist-packages/matplotlib/backends/backend_agg.py:214: RuntimeWarning: Glyph 49324 missing from current font.\n",
            "  font.set_text(s, 0.0, flags=flags)\n",
            "/usr/local/lib/python3.7/dist-packages/matplotlib/backends/backend_agg.py:214: RuntimeWarning: Glyph 44032 missing from current font.\n",
            "  font.set_text(s, 0.0, flags=flags)\n",
            "/usr/local/lib/python3.7/dist-packages/matplotlib/backends/backend_agg.py:214: RuntimeWarning: Glyph 44201 missing from current font.\n",
            "  font.set_text(s, 0.0, flags=flags)\n",
            "/usr/local/lib/python3.7/dist-packages/matplotlib/backends/backend_agg.py:183: RuntimeWarning: Glyph 54665 missing from current font.\n",
            "  font.set_text(s, 0, flags=flags)\n",
            "/usr/local/lib/python3.7/dist-packages/matplotlib/backends/backend_agg.py:183: RuntimeWarning: Glyph 49324 missing from current font.\n",
            "  font.set_text(s, 0, flags=flags)\n",
            "/usr/local/lib/python3.7/dist-packages/matplotlib/backends/backend_agg.py:183: RuntimeWarning: Glyph 44032 missing from current font.\n",
            "  font.set_text(s, 0, flags=flags)\n",
            "/usr/local/lib/python3.7/dist-packages/matplotlib/backends/backend_agg.py:183: RuntimeWarning: Glyph 44201 missing from current font.\n",
            "  font.set_text(s, 0, flags=flags)\n",
            "/usr/local/lib/python3.7/dist-packages/matplotlib/backends/backend_agg.py:214: RuntimeWarning: Glyph 53084 missing from current font.\n",
            "  font.set_text(s, 0.0, flags=flags)\n",
            "/usr/local/lib/python3.7/dist-packages/matplotlib/backends/backend_agg.py:214: RuntimeWarning: Glyph 50741 missing from current font.\n",
            "  font.set_text(s, 0.0, flags=flags)\n",
            "/usr/local/lib/python3.7/dist-packages/matplotlib/backends/backend_agg.py:214: RuntimeWarning: Glyph 49496 missing from current font.\n",
            "  font.set_text(s, 0.0, flags=flags)\n",
            "/usr/local/lib/python3.7/dist-packages/matplotlib/backends/backend_agg.py:183: RuntimeWarning: Glyph 53084 missing from current font.\n",
            "  font.set_text(s, 0, flags=flags)\n",
            "/usr/local/lib/python3.7/dist-packages/matplotlib/backends/backend_agg.py:183: RuntimeWarning: Glyph 50741 missing from current font.\n",
            "  font.set_text(s, 0, flags=flags)\n",
            "/usr/local/lib/python3.7/dist-packages/matplotlib/backends/backend_agg.py:183: RuntimeWarning: Glyph 49496 missing from current font.\n",
            "  font.set_text(s, 0, flags=flags)\n"
          ]
        },
        {
          "output_type": "display_data",
          "data": {
            "image/png": "[encoded data removed]",
            "text/plain": [
              "<Figure size 432x288 with 1 Axes>"
            ]
          },
          "metadata": {
            "needs_background": "light"
          }
        }
      ]
    },
    {
      "cell_type": "code",
      "source": [
        "# 비정형옵션의 가치평가\n",
        "\n",
        "# 일반적인 콜옵션 만기일에서의 투자수익 : 블랙-숄즈 모형으로 가격 계산\n",
        "# - 기초자산 가격 > 행사가격인 경우 : 옵션 행사; 투자수익 = -행사가격 + 만기일 기초자산 가격\n",
        "# - 기초자산 가격 <= 행사가격인 경우 : 옵션 행사 포기시 : 투자수익 = 0\n",
        "\n",
        "# 비정형 콜옵션 만기일에서의 투자수익 : 예\n",
        "# - 기초자산 가격 > 행사가격인 경우 : 옵션 행사; 투자수익 = -행사가격 + 만기일 기초자산 가격 * 2\n",
        "# - 기초자산 가격 <= 행사가격인 경우 : 옵션 행사 포기시: 투자수익 = 0\n",
        "# ===> 블랙-숄즈 모형으로 가격 계산할 수 없음\n"
      ],
      "metadata": {
        "id": "T5LRIy6_zdi_"
      },
      "execution_count": null,
      "outputs": []
    },
    {
      "cell_type": "code",
      "source": [
        "# 비정형옵션의 가치평가를 위한 몬테카를로 시뮬레이션 절차\n",
        "# 1. 만기일 기초자산 가격(주가)를 시뮬레이션 한다.\n",
        "# 2. 만기일에서 옵션 투자수익을 계산한다.\n",
        "# 3. Step1, 2를 충분희 많은 회수만큼 반복한다.\n",
        "# 4. 옵션 투자수익의 평균을 계산한다.\n",
        "# 5. 옵션 투자수익 평균을 현재가치로 할인한다. 1/(1+무위험이자율)T * 옵션 투자수익 평균\n"
      ],
      "metadata": {
        "id": "_19G2rSn1LUs"
      },
      "execution_count": null,
      "outputs": []
    },
    {
      "cell_type": "code",
      "source": [
        "# 코드 : 몬테카를로 시뮬레이션을 이용한 일반 콜옵션 가격 계산\n",
        "import numpy as np\n",
        "S,X,sigma,r,T = 10000,10000,0.25,0.02,0.5\n",
        "\n",
        "M=300000\n",
        "payoff_list=np.zeros(M)\n",
        "\n",
        "for i in range(0,M):\n",
        "  epsilon=np.random.randn()\n",
        "  ST=S*np.exp((r-0.5*sigma**2)*T+sigma*epsilon*np.sqrt(T))\n",
        "  payoff=np.max([ST-X,0])\n",
        "  payoff_list[i]=payoff\n",
        "\n",
        "payoff_average=np.mean(payoff_list)\n",
        "call_price=payoff_average/((1+r)**T) # 1/(1+무위험이자율)T\n",
        "print(format(call_price,',.2f'))"
      ],
      "metadata": {
        "colab": {
          "base_uri": "https://localhost:8080/"
        },
        "id": "nfbc6Q952Z2A",
        "outputId": "a85a9ae5-2e56-4ab3-e855-4ce960f9beee"
      },
      "execution_count": 1,
      "outputs": [
        {
          "output_type": "stream",
          "name": "stdout",
          "text": [
            "753.48\n"
          ]
        }
      ]
    },
    {
      "cell_type": "code",
      "source": [
        "# 코드 : 몬테카를로 시뮬레이션을 이용한 **비정형** 콜옵션 가격 계산\n",
        "import numpy as np\n",
        "S,X,sigma,r,T = 10000,10000,0.25,0.02,0.5\n",
        "\n",
        "M=300000\n",
        "payoff_list=np.zeros(M)\n",
        "\n",
        "for i in range(0,M):\n",
        "  epsilon=np.random.randn()\n",
        "  ST=S*np.exp((r-0.5*sigma**2)*T+sigma*epsilon*np.sqrt(T))\n",
        "  payoff=np.max([2*ST-X,0]) # 2배 수익익\n",
        "  payoff_list[i]=payoff\n",
        "\n",
        "payoff_average=np.mean(payoff_list)\n",
        "call_price=payoff_average/((1+r)**T) # 1/(1+무위험이자율)T\n",
        "print(format(call_price,',.2f'))"
      ],
      "metadata": {
        "colab": {
          "base_uri": "https://localhost:8080/"
        },
        "id": "CKhB512Z441I",
        "outputId": "d073bc08-0c70-4b14-9d09-2d4061131a15"
      },
      "execution_count": 2,
      "outputs": [
        {
          "output_type": "stream",
          "name": "stdout",
          "text": [
            "10,089.71\n"
          ]
        }
      ]
    },
    {
      "cell_type": "code",
      "source": [
        "np.random.randn()"
      ],
      "metadata": {
        "colab": {
          "base_uri": "https://localhost:8080/"
        },
        "id": "a3DjOu7T5vZ-",
        "outputId": "cbedd484-b0f1-4622-98a2-4eb130717a18"
      },
      "execution_count": 4,
      "outputs": [
        {
          "output_type": "execute_result",
          "data": {
            "text/plain": [
              "0.36460433991062957"
            ]
          },
          "metadata": {},
          "execution_count": 4
        }
      ]
    }
  ]
}